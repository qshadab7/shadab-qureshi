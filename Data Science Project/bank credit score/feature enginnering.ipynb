{
 "cells": [
  {
   "cell_type": "markdown",
   "metadata": {},
   "source": [
    "# Merge all csv file "
   ]
  },
  {
   "cell_type": "code",
   "execution_count": 24,
   "metadata": {},
   "outputs": [],
   "source": [
    "import pandas as pd\n",
    "import numpy as np\n",
    "import matplotlib.pyplot as plt\n",
    "%matplotlib inline"
   ]
  },
  {
   "cell_type": "code",
   "execution_count": 25,
   "metadata": {},
   "outputs": [
    {
     "name": "stdout",
     "output_type": "stream",
     "text": [
      "(23896, 6)\n"
     ]
    },
    {
     "data": {
      "text/html": [
       "<div>\n",
       "<style scoped>\n",
       "    .dataframe tbody tr th:only-of-type {\n",
       "        vertical-align: middle;\n",
       "    }\n",
       "\n",
       "    .dataframe tbody tr th {\n",
       "        vertical-align: top;\n",
       "    }\n",
       "\n",
       "    .dataframe thead th {\n",
       "        text-align: right;\n",
       "    }\n",
       "</style>\n",
       "<table border=\"1\" class=\"dataframe\">\n",
       "  <thead>\n",
       "    <tr style=\"text-align: right;\">\n",
       "      <th></th>\n",
       "      <th>customer_no</th>\n",
       "      <th>acct_type</th>\n",
       "      <th>cur_balance_amt</th>\n",
       "      <th>amt_past_due</th>\n",
       "      <th>creditlimit</th>\n",
       "      <th>cashlimit</th>\n",
       "    </tr>\n",
       "  </thead>\n",
       "  <tbody>\n",
       "    <tr>\n",
       "      <th>0</th>\n",
       "      <td>1</td>\n",
       "      <td>121</td>\n",
       "      <td>4714857</td>\n",
       "      <td>2538209.0</td>\n",
       "      <td>670000.0</td>\n",
       "      <td>168000.0</td>\n",
       "    </tr>\n",
       "    <tr>\n",
       "      <th>1</th>\n",
       "      <td>2</td>\n",
       "      <td>20</td>\n",
       "      <td>30754</td>\n",
       "      <td>0.0</td>\n",
       "      <td>1000000.0</td>\n",
       "      <td>1.0</td>\n",
       "    </tr>\n",
       "  </tbody>\n",
       "</table>\n",
       "</div>"
      ],
      "text/plain": [
       "   customer_no  acct_type  cur_balance_amt  amt_past_due  creditlimit  \\\n",
       "0            1        121          4714857     2538209.0     670000.0   \n",
       "1            2         20            30754           0.0    1000000.0   \n",
       "\n",
       "   cashlimit  \n",
       "0   168000.0  \n",
       "1        1.0  "
      ]
     },
     "execution_count": 25,
     "metadata": {},
     "output_type": "execute_result"
    }
   ],
   "source": [
    "data=pd.read_csv('final_accu')\n",
    "print(data.shape)\n",
    "data.head(2)"
   ]
  },
  {
   "cell_type": "code",
   "execution_count": 26,
   "metadata": {},
   "outputs": [
    {
     "name": "stdout",
     "output_type": "stream",
     "text": [
      "(23896, 3)\n"
     ]
    },
    {
     "data": {
      "text/html": [
       "<div>\n",
       "<style scoped>\n",
       "    .dataframe tbody tr th:only-of-type {\n",
       "        vertical-align: middle;\n",
       "    }\n",
       "\n",
       "    .dataframe tbody tr th {\n",
       "        vertical-align: top;\n",
       "    }\n",
       "\n",
       "    .dataframe thead th {\n",
       "        text-align: right;\n",
       "    }\n",
       "</style>\n",
       "<table border=\"1\" class=\"dataframe\">\n",
       "  <thead>\n",
       "    <tr style=\"text-align: right;\">\n",
       "      <th></th>\n",
       "      <th>customer_no</th>\n",
       "      <th>enq_amt_x</th>\n",
       "      <th>enq_amt_y</th>\n",
       "    </tr>\n",
       "  </thead>\n",
       "  <tbody>\n",
       "    <tr>\n",
       "      <th>0</th>\n",
       "      <td>1</td>\n",
       "      <td>18</td>\n",
       "      <td>4.981150e+06</td>\n",
       "    </tr>\n",
       "    <tr>\n",
       "      <th>1</th>\n",
       "      <td>2</td>\n",
       "      <td>68</td>\n",
       "      <td>6.676682e+09</td>\n",
       "    </tr>\n",
       "  </tbody>\n",
       "</table>\n",
       "</div>"
      ],
      "text/plain": [
       "   customer_no  enq_amt_x     enq_amt_y\n",
       "0            1         18  4.981150e+06\n",
       "1            2         68  6.676682e+09"
      ]
     },
     "execution_count": 26,
     "metadata": {},
     "output_type": "execute_result"
    }
   ],
   "source": [
    "df=pd.read_csv('final_enqu')\n",
    "print(df.shape)\n",
    "df.head(2)"
   ]
  },
  {
   "cell_type": "code",
   "execution_count": 27,
   "metadata": {},
   "outputs": [],
   "source": [
    "final_data=pd.merge(df,data,on='customer_no',how='inner')"
   ]
  },
  {
   "cell_type": "code",
   "execution_count": 28,
   "metadata": {},
   "outputs": [
    {
     "data": {
      "text/html": [
       "<div>\n",
       "<style scoped>\n",
       "    .dataframe tbody tr th:only-of-type {\n",
       "        vertical-align: middle;\n",
       "    }\n",
       "\n",
       "    .dataframe tbody tr th {\n",
       "        vertical-align: top;\n",
       "    }\n",
       "\n",
       "    .dataframe thead th {\n",
       "        text-align: right;\n",
       "    }\n",
       "</style>\n",
       "<table border=\"1\" class=\"dataframe\">\n",
       "  <thead>\n",
       "    <tr style=\"text-align: right;\">\n",
       "      <th></th>\n",
       "      <th>customer_no</th>\n",
       "      <th>enq_amt_x</th>\n",
       "      <th>enq_amt_y</th>\n",
       "      <th>acct_type</th>\n",
       "      <th>cur_balance_amt</th>\n",
       "      <th>amt_past_due</th>\n",
       "      <th>creditlimit</th>\n",
       "      <th>cashlimit</th>\n",
       "    </tr>\n",
       "  </thead>\n",
       "  <tbody>\n",
       "    <tr>\n",
       "      <th>0</th>\n",
       "      <td>1</td>\n",
       "      <td>18</td>\n",
       "      <td>4.981150e+06</td>\n",
       "      <td>121</td>\n",
       "      <td>4714857</td>\n",
       "      <td>2538209.0</td>\n",
       "      <td>670000.0</td>\n",
       "      <td>168000.0</td>\n",
       "    </tr>\n",
       "    <tr>\n",
       "      <th>1</th>\n",
       "      <td>2</td>\n",
       "      <td>68</td>\n",
       "      <td>6.676682e+09</td>\n",
       "      <td>20</td>\n",
       "      <td>30754</td>\n",
       "      <td>0.0</td>\n",
       "      <td>1000000.0</td>\n",
       "      <td>1.0</td>\n",
       "    </tr>\n",
       "    <tr>\n",
       "      <th>2</th>\n",
       "      <td>3</td>\n",
       "      <td>1</td>\n",
       "      <td>3.400000e+06</td>\n",
       "      <td>10</td>\n",
       "      <td>17864</td>\n",
       "      <td>0.0</td>\n",
       "      <td>0.0</td>\n",
       "      <td>0.0</td>\n",
       "    </tr>\n",
       "    <tr>\n",
       "      <th>3</th>\n",
       "      <td>4</td>\n",
       "      <td>34</td>\n",
       "      <td>5.081000e+07</td>\n",
       "      <td>257</td>\n",
       "      <td>1845569</td>\n",
       "      <td>0.0</td>\n",
       "      <td>956000.0</td>\n",
       "      <td>361000.0</td>\n",
       "    </tr>\n",
       "    <tr>\n",
       "      <th>4</th>\n",
       "      <td>5</td>\n",
       "      <td>2</td>\n",
       "      <td>2.000000e+03</td>\n",
       "      <td>62</td>\n",
       "      <td>7973</td>\n",
       "      <td>0.0</td>\n",
       "      <td>0.0</td>\n",
       "      <td>0.0</td>\n",
       "    </tr>\n",
       "  </tbody>\n",
       "</table>\n",
       "</div>"
      ],
      "text/plain": [
       "   customer_no  enq_amt_x     enq_amt_y  acct_type  cur_balance_amt  \\\n",
       "0            1         18  4.981150e+06        121          4714857   \n",
       "1            2         68  6.676682e+09         20            30754   \n",
       "2            3          1  3.400000e+06         10            17864   \n",
       "3            4         34  5.081000e+07        257          1845569   \n",
       "4            5          2  2.000000e+03         62             7973   \n",
       "\n",
       "   amt_past_due  creditlimit  cashlimit  \n",
       "0     2538209.0     670000.0   168000.0  \n",
       "1           0.0    1000000.0        1.0  \n",
       "2           0.0          0.0        0.0  \n",
       "3           0.0     956000.0   361000.0  \n",
       "4           0.0          0.0        0.0  "
      ]
     },
     "execution_count": 28,
     "metadata": {},
     "output_type": "execute_result"
    }
   ],
   "source": [
    "final_data.head()"
   ]
  },
  {
   "cell_type": "code",
   "execution_count": 29,
   "metadata": {},
   "outputs": [
    {
     "name": "stdout",
     "output_type": "stream",
     "text": [
      "(23896, 44)\n"
     ]
    },
    {
     "data": {
      "text/html": [
       "<div>\n",
       "<style scoped>\n",
       "    .dataframe tbody tr th:only-of-type {\n",
       "        vertical-align: middle;\n",
       "    }\n",
       "\n",
       "    .dataframe tbody tr th {\n",
       "        vertical-align: top;\n",
       "    }\n",
       "\n",
       "    .dataframe thead th {\n",
       "        text-align: right;\n",
       "    }\n",
       "</style>\n",
       "<table border=\"1\" class=\"dataframe\">\n",
       "  <thead>\n",
       "    <tr style=\"text-align: right;\">\n",
       "      <th></th>\n",
       "      <th>customer_no</th>\n",
       "      <th>feature_1</th>\n",
       "      <th>feature_4</th>\n",
       "      <th>feature_5</th>\n",
       "      <th>feature_6</th>\n",
       "      <th>feature_7</th>\n",
       "      <th>feature_11</th>\n",
       "      <th>feature_19</th>\n",
       "      <th>feature_23</th>\n",
       "      <th>feature_25</th>\n",
       "      <th>...</th>\n",
       "      <th>feature_65</th>\n",
       "      <th>feature_67</th>\n",
       "      <th>feature_68</th>\n",
       "      <th>feature_69</th>\n",
       "      <th>feature_71</th>\n",
       "      <th>feature_72</th>\n",
       "      <th>feature_76</th>\n",
       "      <th>feature_78</th>\n",
       "      <th>feature_79</th>\n",
       "      <th>Bad_label</th>\n",
       "    </tr>\n",
       "  </thead>\n",
       "  <tbody>\n",
       "    <tr>\n",
       "      <th>0</th>\n",
       "      <td>1</td>\n",
       "      <td>Insignia</td>\n",
       "      <td>2.0</td>\n",
       "      <td>Card Setup</td>\n",
       "      <td>14.0</td>\n",
       "      <td>500000.0</td>\n",
       "      <td>Y</td>\n",
       "      <td>1.0</td>\n",
       "      <td>N</td>\n",
       "      <td>1.0</td>\n",
       "      <td>...</td>\n",
       "      <td>15.0</td>\n",
       "      <td>0.0</td>\n",
       "      <td>2.0</td>\n",
       "      <td>90000.0</td>\n",
       "      <td>21.0</td>\n",
       "      <td>R</td>\n",
       "      <td>0.0</td>\n",
       "      <td>1.0</td>\n",
       "      <td>N</td>\n",
       "      <td>0</td>\n",
       "    </tr>\n",
       "    <tr>\n",
       "      <th>1</th>\n",
       "      <td>2</td>\n",
       "      <td>Insignia</td>\n",
       "      <td>1.0</td>\n",
       "      <td>Card Setup</td>\n",
       "      <td>14.0</td>\n",
       "      <td>1200000.0</td>\n",
       "      <td>Y</td>\n",
       "      <td>1.0</td>\n",
       "      <td>N</td>\n",
       "      <td>1.0</td>\n",
       "      <td>...</td>\n",
       "      <td>12.0</td>\n",
       "      <td>0.0</td>\n",
       "      <td>2.0</td>\n",
       "      <td>1.0</td>\n",
       "      <td>17.0</td>\n",
       "      <td>R</td>\n",
       "      <td>0.0</td>\n",
       "      <td>1.0</td>\n",
       "      <td>N</td>\n",
       "      <td>0</td>\n",
       "    </tr>\n",
       "  </tbody>\n",
       "</table>\n",
       "<p>2 rows × 44 columns</p>\n",
       "</div>"
      ],
      "text/plain": [
       "   customer_no feature_1  feature_4   feature_5  feature_6  feature_7  \\\n",
       "0            1  Insignia        2.0  Card Setup       14.0   500000.0   \n",
       "1            2  Insignia        1.0  Card Setup       14.0  1200000.0   \n",
       "\n",
       "  feature_11  feature_19 feature_23  feature_25  ...  feature_65 feature_67  \\\n",
       "0          Y         1.0          N         1.0  ...        15.0        0.0   \n",
       "1          Y         1.0          N         1.0  ...        12.0        0.0   \n",
       "\n",
       "   feature_68  feature_69  feature_71 feature_72 feature_76  feature_78  \\\n",
       "0         2.0     90000.0        21.0          R        0.0         1.0   \n",
       "1         2.0         1.0        17.0          R        0.0         1.0   \n",
       "\n",
       "   feature_79 Bad_label  \n",
       "0           N         0  \n",
       "1           N         0  \n",
       "\n",
       "[2 rows x 44 columns]"
      ]
     },
     "execution_count": 29,
     "metadata": {},
     "output_type": "execute_result"
    }
   ],
   "source": [
    "df1=pd.read_csv('final_demo')\n",
    "print(df1.shape)\n",
    "df1.head(2)"
   ]
  },
  {
   "cell_type": "code",
   "execution_count": 30,
   "metadata": {},
   "outputs": [],
   "source": [
    "final1=pd.merge(final_data,df1,on='customer_no',how='inner')"
   ]
  },
  {
   "cell_type": "code",
   "execution_count": 31,
   "metadata": {},
   "outputs": [
    {
     "name": "stdout",
     "output_type": "stream",
     "text": [
      "(23896, 51)\n"
     ]
    },
    {
     "data": {
      "text/html": [
       "<div>\n",
       "<style scoped>\n",
       "    .dataframe tbody tr th:only-of-type {\n",
       "        vertical-align: middle;\n",
       "    }\n",
       "\n",
       "    .dataframe tbody tr th {\n",
       "        vertical-align: top;\n",
       "    }\n",
       "\n",
       "    .dataframe thead th {\n",
       "        text-align: right;\n",
       "    }\n",
       "</style>\n",
       "<table border=\"1\" class=\"dataframe\">\n",
       "  <thead>\n",
       "    <tr style=\"text-align: right;\">\n",
       "      <th></th>\n",
       "      <th>customer_no</th>\n",
       "      <th>enq_amt_x</th>\n",
       "      <th>enq_amt_y</th>\n",
       "      <th>acct_type</th>\n",
       "      <th>cur_balance_amt</th>\n",
       "      <th>amt_past_due</th>\n",
       "      <th>creditlimit</th>\n",
       "      <th>cashlimit</th>\n",
       "      <th>feature_1</th>\n",
       "      <th>feature_4</th>\n",
       "      <th>...</th>\n",
       "      <th>feature_65</th>\n",
       "      <th>feature_67</th>\n",
       "      <th>feature_68</th>\n",
       "      <th>feature_69</th>\n",
       "      <th>feature_71</th>\n",
       "      <th>feature_72</th>\n",
       "      <th>feature_76</th>\n",
       "      <th>feature_78</th>\n",
       "      <th>feature_79</th>\n",
       "      <th>Bad_label</th>\n",
       "    </tr>\n",
       "  </thead>\n",
       "  <tbody>\n",
       "    <tr>\n",
       "      <th>0</th>\n",
       "      <td>1</td>\n",
       "      <td>18</td>\n",
       "      <td>4.981150e+06</td>\n",
       "      <td>121</td>\n",
       "      <td>4714857</td>\n",
       "      <td>2538209.0</td>\n",
       "      <td>670000.0</td>\n",
       "      <td>168000.0</td>\n",
       "      <td>Insignia</td>\n",
       "      <td>2.0</td>\n",
       "      <td>...</td>\n",
       "      <td>15.0</td>\n",
       "      <td>0.0</td>\n",
       "      <td>2.0</td>\n",
       "      <td>90000.0</td>\n",
       "      <td>21.0</td>\n",
       "      <td>R</td>\n",
       "      <td>0.0</td>\n",
       "      <td>1.0</td>\n",
       "      <td>N</td>\n",
       "      <td>0</td>\n",
       "    </tr>\n",
       "    <tr>\n",
       "      <th>1</th>\n",
       "      <td>2</td>\n",
       "      <td>68</td>\n",
       "      <td>6.676682e+09</td>\n",
       "      <td>20</td>\n",
       "      <td>30754</td>\n",
       "      <td>0.0</td>\n",
       "      <td>1000000.0</td>\n",
       "      <td>1.0</td>\n",
       "      <td>Insignia</td>\n",
       "      <td>1.0</td>\n",
       "      <td>...</td>\n",
       "      <td>12.0</td>\n",
       "      <td>0.0</td>\n",
       "      <td>2.0</td>\n",
       "      <td>1.0</td>\n",
       "      <td>17.0</td>\n",
       "      <td>R</td>\n",
       "      <td>0.0</td>\n",
       "      <td>1.0</td>\n",
       "      <td>N</td>\n",
       "      <td>0</td>\n",
       "    </tr>\n",
       "    <tr>\n",
       "      <th>2</th>\n",
       "      <td>3</td>\n",
       "      <td>1</td>\n",
       "      <td>3.400000e+06</td>\n",
       "      <td>10</td>\n",
       "      <td>17864</td>\n",
       "      <td>0.0</td>\n",
       "      <td>0.0</td>\n",
       "      <td>0.0</td>\n",
       "      <td>Insignia</td>\n",
       "      <td>1.0</td>\n",
       "      <td>...</td>\n",
       "      <td>12.0</td>\n",
       "      <td>0.0</td>\n",
       "      <td>2.0</td>\n",
       "      <td>1.0</td>\n",
       "      <td>17.0</td>\n",
       "      <td>R</td>\n",
       "      <td>0.0</td>\n",
       "      <td>1.0</td>\n",
       "      <td>N</td>\n",
       "      <td>0</td>\n",
       "    </tr>\n",
       "    <tr>\n",
       "      <th>3</th>\n",
       "      <td>4</td>\n",
       "      <td>34</td>\n",
       "      <td>5.081000e+07</td>\n",
       "      <td>257</td>\n",
       "      <td>1845569</td>\n",
       "      <td>0.0</td>\n",
       "      <td>956000.0</td>\n",
       "      <td>361000.0</td>\n",
       "      <td>Insignia</td>\n",
       "      <td>1.0</td>\n",
       "      <td>...</td>\n",
       "      <td>16.0</td>\n",
       "      <td>0.0</td>\n",
       "      <td>2.0</td>\n",
       "      <td>100000.0</td>\n",
       "      <td>21.0</td>\n",
       "      <td>R</td>\n",
       "      <td>1.0</td>\n",
       "      <td>1.0</td>\n",
       "      <td>N</td>\n",
       "      <td>0</td>\n",
       "    </tr>\n",
       "    <tr>\n",
       "      <th>4</th>\n",
       "      <td>5</td>\n",
       "      <td>2</td>\n",
       "      <td>2.000000e+03</td>\n",
       "      <td>62</td>\n",
       "      <td>7973</td>\n",
       "      <td>0.0</td>\n",
       "      <td>0.0</td>\n",
       "      <td>0.0</td>\n",
       "      <td>Insignia</td>\n",
       "      <td>3.0</td>\n",
       "      <td>...</td>\n",
       "      <td>3.0</td>\n",
       "      <td>0.0</td>\n",
       "      <td>2.0</td>\n",
       "      <td>300000.0</td>\n",
       "      <td>13.0</td>\n",
       "      <td>R</td>\n",
       "      <td>0.0</td>\n",
       "      <td>1.0</td>\n",
       "      <td>N</td>\n",
       "      <td>0</td>\n",
       "    </tr>\n",
       "  </tbody>\n",
       "</table>\n",
       "<p>5 rows × 51 columns</p>\n",
       "</div>"
      ],
      "text/plain": [
       "   customer_no  enq_amt_x     enq_amt_y  acct_type  cur_balance_amt  \\\n",
       "0            1         18  4.981150e+06        121          4714857   \n",
       "1            2         68  6.676682e+09         20            30754   \n",
       "2            3          1  3.400000e+06         10            17864   \n",
       "3            4         34  5.081000e+07        257          1845569   \n",
       "4            5          2  2.000000e+03         62             7973   \n",
       "\n",
       "   amt_past_due  creditlimit  cashlimit feature_1  feature_4  ... feature_65  \\\n",
       "0     2538209.0     670000.0   168000.0  Insignia        2.0  ...       15.0   \n",
       "1           0.0    1000000.0        1.0  Insignia        1.0  ...       12.0   \n",
       "2           0.0          0.0        0.0  Insignia        1.0  ...       12.0   \n",
       "3           0.0     956000.0   361000.0  Insignia        1.0  ...       16.0   \n",
       "4           0.0          0.0        0.0  Insignia        3.0  ...        3.0   \n",
       "\n",
       "   feature_67  feature_68 feature_69  feature_71 feature_72  feature_76  \\\n",
       "0         0.0         2.0    90000.0        21.0          R         0.0   \n",
       "1         0.0         2.0        1.0        17.0          R         0.0   \n",
       "2         0.0         2.0        1.0        17.0          R         0.0   \n",
       "3         0.0         2.0   100000.0        21.0          R         1.0   \n",
       "4         0.0         2.0   300000.0        13.0          R         0.0   \n",
       "\n",
       "   feature_78 feature_79  Bad_label  \n",
       "0         1.0          N          0  \n",
       "1         1.0          N          0  \n",
       "2         1.0          N          0  \n",
       "3         1.0          N          0  \n",
       "4         1.0          N          0  \n",
       "\n",
       "[5 rows x 51 columns]"
      ]
     },
     "execution_count": 31,
     "metadata": {},
     "output_type": "execute_result"
    }
   ],
   "source": [
    "print(final1.shape)\n",
    "final1.head()"
   ]
  },
  {
   "cell_type": "code",
   "execution_count": 32,
   "metadata": {},
   "outputs": [
    {
     "data": {
      "text/plain": [
       "0"
      ]
     },
     "execution_count": 32,
     "metadata": {},
     "output_type": "execute_result"
    }
   ],
   "source": [
    "final1.duplicated().sum()"
   ]
  },
  {
   "cell_type": "code",
   "execution_count": 33,
   "metadata": {},
   "outputs": [
    {
     "data": {
      "text/plain": [
       "customer_no            0\n",
       "enq_amt_x              0\n",
       "enq_amt_y              0\n",
       "acct_type              0\n",
       "cur_balance_amt        0\n",
       "amt_past_due           0\n",
       "creditlimit            0\n",
       "cashlimit              0\n",
       "feature_1             15\n",
       "feature_4             15\n",
       "feature_5             15\n",
       "feature_6             15\n",
       "feature_7             15\n",
       "feature_11            15\n",
       "feature_19            15\n",
       "feature_23            15\n",
       "feature_25            15\n",
       "feature_26            15\n",
       "feature_27          3637\n",
       "feature_29            15\n",
       "feature_30            15\n",
       "feature_31            15\n",
       "feature_32            15\n",
       "feature_33            15\n",
       "feature_34            15\n",
       "feature_35            15\n",
       "feature_36          5682\n",
       "feature_37          5682\n",
       "feature_40            15\n",
       "feature_41            15\n",
       "feature_42            15\n",
       "feature_44            15\n",
       "feature_46            94\n",
       "feature_48         18399\n",
       "feature_55            15\n",
       "feature_56            15\n",
       "feature_58            15\n",
       "feature_59            15\n",
       "feature_60            15\n",
       "feature_62            15\n",
       "feature_64            15\n",
       "feature_65            15\n",
       "feature_67            15\n",
       "feature_68            15\n",
       "feature_69            15\n",
       "feature_71            15\n",
       "feature_72            15\n",
       "feature_76            15\n",
       "feature_78            15\n",
       "feature_79            15\n",
       "Bad_label              0\n",
       "dtype: int64"
      ]
     },
     "execution_count": 33,
     "metadata": {},
     "output_type": "execute_result"
    }
   ],
   "source": [
    "final1.isnull().sum()"
   ]
  },
  {
   "cell_type": "code",
   "execution_count": 34,
   "metadata": {},
   "outputs": [],
   "source": [
    "final1.replace(['?','$','',' ','   ','*'],np.nan,inplace=True)"
   ]
  },
  {
   "cell_type": "code",
   "execution_count": 39,
   "metadata": {},
   "outputs": [],
   "source": [
    "final1.loc[:,['feature_36','feature_37','feature_48','feature_46']]=final1.loc[:,['feature_36','feature_37','feature_48','feature_46']].replace(np.nan,'others')"
   ]
  },
  {
   "cell_type": "code",
   "execution_count": 40,
   "metadata": {},
   "outputs": [
    {
     "data": {
      "text/plain": [
       "(23896, 51)"
      ]
     },
     "execution_count": 40,
     "metadata": {},
     "output_type": "execute_result"
    }
   ],
   "source": [
    "final1.shape"
   ]
  },
  {
   "cell_type": "code",
   "execution_count": 41,
   "metadata": {},
   "outputs": [
    {
     "data": {
      "text/plain": [
       "customer_no           0\n",
       "enq_amt_x             0\n",
       "enq_amt_y             0\n",
       "acct_type             0\n",
       "cur_balance_amt       0\n",
       "amt_past_due          0\n",
       "creditlimit           0\n",
       "cashlimit             0\n",
       "feature_1            15\n",
       "feature_4            15\n",
       "feature_5            15\n",
       "feature_6            15\n",
       "feature_7            15\n",
       "feature_11           15\n",
       "feature_19           15\n",
       "feature_23           15\n",
       "feature_25           15\n",
       "feature_26           15\n",
       "feature_27         3637\n",
       "feature_29           15\n",
       "feature_30           15\n",
       "feature_31           15\n",
       "feature_32           15\n",
       "feature_33           15\n",
       "feature_34           15\n",
       "feature_35           15\n",
       "feature_36            0\n",
       "feature_37            0\n",
       "feature_40           15\n",
       "feature_41           15\n",
       "feature_42           15\n",
       "feature_44           15\n",
       "feature_46            0\n",
       "feature_48            0\n",
       "feature_55           15\n",
       "feature_56           15\n",
       "feature_58           15\n",
       "feature_59           15\n",
       "feature_60           15\n",
       "feature_62           15\n",
       "feature_64           15\n",
       "feature_65           15\n",
       "feature_67           15\n",
       "feature_68           15\n",
       "feature_69           15\n",
       "feature_71           15\n",
       "feature_72           15\n",
       "feature_76           15\n",
       "feature_78           15\n",
       "feature_79           15\n",
       "Bad_label             0\n",
       "dtype: int64"
      ]
     },
     "execution_count": 41,
     "metadata": {},
     "output_type": "execute_result"
    }
   ],
   "source": [
    "final1.isnull().sum()"
   ]
  },
  {
   "cell_type": "code",
   "execution_count": 44,
   "metadata": {},
   "outputs": [
    {
     "data": {
      "text/plain": [
       "Counter({0: 22892, 1: 1004})"
      ]
     },
     "execution_count": 44,
     "metadata": {},
     "output_type": "execute_result"
    }
   ],
   "source": [
    "from collections import Counter\n",
    "Counter(final1.Bad_label)"
   ]
  },
  {
   "cell_type": "code",
   "execution_count": 45,
   "metadata": {},
   "outputs": [
    {
     "data": {
      "text/plain": [
       "0"
      ]
     },
     "execution_count": 45,
     "metadata": {},
     "output_type": "execute_result"
    }
   ],
   "source": [
    "final1.duplicated().sum()"
   ]
  },
  {
   "cell_type": "code",
   "execution_count": 48,
   "metadata": {},
   "outputs": [
    {
     "name": "stdout",
     "output_type": "stream",
     "text": [
      "<class 'pandas.core.frame.DataFrame'>\n",
      "Int64Index: 23896 entries, 0 to 23895\n",
      "Data columns (total 51 columns):\n",
      "customer_no        23896 non-null int64\n",
      "enq_amt_x          23896 non-null int64\n",
      "enq_amt_y          23896 non-null float64\n",
      "acct_type          23896 non-null int64\n",
      "cur_balance_amt    23896 non-null int64\n",
      "amt_past_due       23896 non-null float64\n",
      "creditlimit        23896 non-null float64\n",
      "cashlimit          23896 non-null float64\n",
      "feature_1          23881 non-null object\n",
      "feature_4          23881 non-null float64\n",
      "feature_5          23881 non-null object\n",
      "feature_6          23881 non-null float64\n",
      "feature_7          23881 non-null float64\n",
      "feature_11         23881 non-null object\n",
      "feature_19         23881 non-null float64\n",
      "feature_23         23881 non-null object\n",
      "feature_25         23881 non-null float64\n",
      "feature_26         23881 non-null float64\n",
      "feature_27         20259 non-null object\n",
      "feature_29         23881 non-null float64\n",
      "feature_30         23881 non-null float64\n",
      "feature_31         23881 non-null float64\n",
      "feature_32         23881 non-null object\n",
      "feature_33         23881 non-null object\n",
      "feature_34         23881 non-null float64\n",
      "feature_35         23881 non-null float64\n",
      "feature_36         23896 non-null object\n",
      "feature_37         23896 non-null object\n",
      "feature_40         23881 non-null float64\n",
      "feature_41         23881 non-null float64\n",
      "feature_42         23881 non-null float64\n",
      "feature_44         23881 non-null float64\n",
      "feature_46         23896 non-null object\n",
      "feature_48         23896 non-null object\n",
      "feature_55         23881 non-null float64\n",
      "feature_56         23881 non-null float64\n",
      "feature_58         23881 non-null object\n",
      "feature_59         23881 non-null object\n",
      "feature_60         23881 non-null object\n",
      "feature_62         23881 non-null object\n",
      "feature_64         23881 non-null float64\n",
      "feature_65         23881 non-null float64\n",
      "feature_67         23881 non-null float64\n",
      "feature_68         23881 non-null float64\n",
      "feature_69         23881 non-null float64\n",
      "feature_71         23881 non-null float64\n",
      "feature_72         23881 non-null object\n",
      "feature_76         23881 non-null float64\n",
      "feature_78         23881 non-null float64\n",
      "feature_79         23881 non-null object\n",
      "Bad_label          23896 non-null int64\n",
      "dtypes: float64(29), int64(5), object(17)\n",
      "memory usage: 9.5+ MB\n"
     ]
    }
   ],
   "source": [
    "final1.info()"
   ]
  },
  {
   "cell_type": "code",
   "execution_count": 49,
   "metadata": {},
   "outputs": [
    {
     "data": {
      "text/plain": [
       "Counter({'others': 5682,\n",
       "         'Government Organisation': 642,\n",
       "         'Public Ltd Co.': 5665,\n",
       "         'Proprietorship': 1669,\n",
       "         'Private Ltd. Co.': 8677,\n",
       "         'MNC': 1511,\n",
       "         'Partnership': 6,\n",
       "         'PSU': 21,\n",
       "         'Partnership Co.': 22,\n",
       "         'Others': 1})"
      ]
     },
     "execution_count": 49,
     "metadata": {},
     "output_type": "execute_result"
    }
   ],
   "source": [
    "from collections import Counter\n",
    "Counter(final1.feature_36)"
   ]
  },
  {
   "cell_type": "code",
   "execution_count": 51,
   "metadata": {},
   "outputs": [
    {
     "data": {
      "text/plain": [
       "(23896, 51)"
      ]
     },
     "execution_count": 51,
     "metadata": {},
     "output_type": "execute_result"
    }
   ],
   "source": [
    "final1.drop_duplicates(inplace=True)\n",
    "final1.shape"
   ]
  },
  {
   "cell_type": "code",
   "execution_count": 53,
   "metadata": {},
   "outputs": [
    {
     "data": {
      "text/plain": [
       "(20259, 51)"
      ]
     },
     "execution_count": 53,
     "metadata": {},
     "output_type": "execute_result"
    }
   ],
   "source": [
    "final1.dropna(inplace=True)\n",
    "final1.shape"
   ]
  },
  {
   "cell_type": "code",
   "execution_count": 54,
   "metadata": {},
   "outputs": [
    {
     "data": {
      "text/plain": [
       "customer_no        0\n",
       "enq_amt_x          0\n",
       "enq_amt_y          0\n",
       "acct_type          0\n",
       "cur_balance_amt    0\n",
       "amt_past_due       0\n",
       "creditlimit        0\n",
       "cashlimit          0\n",
       "feature_1          0\n",
       "feature_4          0\n",
       "feature_5          0\n",
       "feature_6          0\n",
       "feature_7          0\n",
       "feature_11         0\n",
       "feature_19         0\n",
       "feature_23         0\n",
       "feature_25         0\n",
       "feature_26         0\n",
       "feature_27         0\n",
       "feature_29         0\n",
       "feature_30         0\n",
       "feature_31         0\n",
       "feature_32         0\n",
       "feature_33         0\n",
       "feature_34         0\n",
       "feature_35         0\n",
       "feature_36         0\n",
       "feature_37         0\n",
       "feature_40         0\n",
       "feature_41         0\n",
       "feature_42         0\n",
       "feature_44         0\n",
       "feature_46         0\n",
       "feature_48         0\n",
       "feature_55         0\n",
       "feature_56         0\n",
       "feature_58         0\n",
       "feature_59         0\n",
       "feature_60         0\n",
       "feature_62         0\n",
       "feature_64         0\n",
       "feature_65         0\n",
       "feature_67         0\n",
       "feature_68         0\n",
       "feature_69         0\n",
       "feature_71         0\n",
       "feature_72         0\n",
       "feature_76         0\n",
       "feature_78         0\n",
       "feature_79         0\n",
       "Bad_label          0\n",
       "dtype: int64"
      ]
     },
     "execution_count": 54,
     "metadata": {},
     "output_type": "execute_result"
    }
   ],
   "source": [
    "final1.isnull().sum()"
   ]
  },
  {
   "cell_type": "code",
   "execution_count": 57,
   "metadata": {},
   "outputs": [],
   "source": [
    "final1.to_csv('final_data',index=False)"
   ]
  },
  {
   "cell_type": "code",
   "execution_count": null,
   "metadata": {},
   "outputs": [],
   "source": []
  }
 ],
 "metadata": {
  "kernelspec": {
   "display_name": "Python 3",
   "language": "python",
   "name": "python3"
  },
  "language_info": {
   "codemirror_mode": {
    "name": "ipython",
    "version": 3
   },
   "file_extension": ".py",
   "mimetype": "text/x-python",
   "name": "python",
   "nbconvert_exporter": "python",
   "pygments_lexer": "ipython3",
   "version": "3.7.3"
  }
 },
 "nbformat": 4,
 "nbformat_minor": 2
}
