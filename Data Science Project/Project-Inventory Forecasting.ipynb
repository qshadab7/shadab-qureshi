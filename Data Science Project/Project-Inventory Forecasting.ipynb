{
 "cells": [
  {
   "cell_type": "raw",
   "metadata": {},
   "source": [
    "Name- Shadab Qureshi\n",
    "Project- Forecasting Spare parts inventory"
   ]
  },
  {
   "cell_type": "markdown",
   "metadata": {},
   "source": [
    "### Import librabries"
   ]
  },
  {
   "cell_type": "code",
   "execution_count": 1,
   "metadata": {
    "scrolled": true
   },
   "outputs": [
    {
     "data": {
      "text/html": [
       "<div>\n",
       "<style scoped>\n",
       "    .dataframe tbody tr th:only-of-type {\n",
       "        vertical-align: middle;\n",
       "    }\n",
       "\n",
       "    .dataframe tbody tr th {\n",
       "        vertical-align: top;\n",
       "    }\n",
       "\n",
       "    .dataframe thead th {\n",
       "        text-align: right;\n",
       "    }\n",
       "</style>\n",
       "<table border=\"1\" class=\"dataframe\">\n",
       "  <thead>\n",
       "    <tr style=\"text-align: right;\">\n",
       "      <th></th>\n",
       "      <th>Invoice_Date</th>\n",
       "      <th>JobCardDate</th>\n",
       "      <th>BusinessPartnerName</th>\n",
       "      <th>VehicleNo.</th>\n",
       "      <th>VehicleModel</th>\n",
       "      <th>CurrentKMReading</th>\n",
       "      <th>INVOICELINETEXT</th>\n",
       "    </tr>\n",
       "  </thead>\n",
       "  <tbody>\n",
       "    <tr>\n",
       "      <th>0</th>\n",
       "      <td>2017-05-30</td>\n",
       "      <td>2017-05-30</td>\n",
       "      <td>shivXXXXXXXXXX</td>\n",
       "      <td>KA03MFXXXX</td>\n",
       "      <td>BAJAJ AVENGER STREET 220</td>\n",
       "      <td>50000</td>\n",
       "      <td>ENGINE OIL</td>\n",
       "    </tr>\n",
       "    <tr>\n",
       "      <th>1</th>\n",
       "      <td>2017-06-02</td>\n",
       "      <td>2017-05-31</td>\n",
       "      <td>KIRAXXXXXXXXXX</td>\n",
       "      <td>KA53ESXXXX</td>\n",
       "      <td>BAJAJ PULSAR NS 200</td>\n",
       "      <td>758</td>\n",
       "      <td>ENGINE OIL</td>\n",
       "    </tr>\n",
       "    <tr>\n",
       "      <th>2</th>\n",
       "      <td>2017-06-02</td>\n",
       "      <td>2017-05-31</td>\n",
       "      <td>KIRAXXXXXXXXXX</td>\n",
       "      <td>KA53ESXXXX</td>\n",
       "      <td>BAJAJ PULSAR NS 200</td>\n",
       "      <td>758</td>\n",
       "      <td>POLISH</td>\n",
       "    </tr>\n",
       "    <tr>\n",
       "      <th>3</th>\n",
       "      <td>2017-06-02</td>\n",
       "      <td>2017-05-31</td>\n",
       "      <td>KIRAXXXXXXXXXX</td>\n",
       "      <td>KA53ESXXXX</td>\n",
       "      <td>BAJAJ PULSAR NS 200</td>\n",
       "      <td>758</td>\n",
       "      <td>CONSUMABLES</td>\n",
       "    </tr>\n",
       "    <tr>\n",
       "      <th>4</th>\n",
       "      <td>2017-06-02</td>\n",
       "      <td>2017-05-31</td>\n",
       "      <td>KIRAXXXXXXXXXX</td>\n",
       "      <td>KA53ESXXXX</td>\n",
       "      <td>BAJAJ PULSAR NS 200</td>\n",
       "      <td>758</td>\n",
       "      <td>COOLANT OIL</td>\n",
       "    </tr>\n",
       "  </tbody>\n",
       "</table>\n",
       "</div>"
      ],
      "text/plain": [
       "  Invoice_Date JobCardDate BusinessPartnerName  VehicleNo.  \\\n",
       "0   2017-05-30  2017-05-30      shivXXXXXXXXXX  KA03MFXXXX   \n",
       "1   2017-06-02  2017-05-31      KIRAXXXXXXXXXX  KA53ESXXXX   \n",
       "2   2017-06-02  2017-05-31      KIRAXXXXXXXXXX  KA53ESXXXX   \n",
       "3   2017-06-02  2017-05-31      KIRAXXXXXXXXXX  KA53ESXXXX   \n",
       "4   2017-06-02  2017-05-31      KIRAXXXXXXXXXX  KA53ESXXXX   \n",
       "\n",
       "               VehicleModel  CurrentKMReading INVOICELINETEXT  \n",
       "0  BAJAJ AVENGER STREET 220             50000      ENGINE OIL  \n",
       "1       BAJAJ PULSAR NS 200               758      ENGINE OIL  \n",
       "2       BAJAJ PULSAR NS 200               758          POLISH  \n",
       "3       BAJAJ PULSAR NS 200               758     CONSUMABLES  \n",
       "4       BAJAJ PULSAR NS 200               758     COOLANT OIL  "
      ]
     },
     "execution_count": 1,
     "metadata": {},
     "output_type": "execute_result"
    }
   ],
   "source": [
    "import numpy as np\n",
    "import pandas as pd\n",
    "data=pd.read_excel('service-data.xlsx',index_col=None,\n",
    "                   parse_cols=None,date_parser=True)\n",
    "data.head()"
   ]
  },
  {
   "cell_type": "markdown",
   "metadata": {},
   "source": [
    "#### Drop all unnecessary label columns"
   ]
  },
  {
   "cell_type": "code",
   "execution_count": 2,
   "metadata": {},
   "outputs": [],
   "source": [
    "data.drop(['JobCardDate','BusinessPartnerName','CurrentKMReading','VehicleModel','VehicleNo.'],axis=1,inplace=True)"
   ]
  },
  {
   "cell_type": "code",
   "execution_count": 3,
   "metadata": {},
   "outputs": [
    {
     "data": {
      "text/html": [
       "<div>\n",
       "<style scoped>\n",
       "    .dataframe tbody tr th:only-of-type {\n",
       "        vertical-align: middle;\n",
       "    }\n",
       "\n",
       "    .dataframe tbody tr th {\n",
       "        vertical-align: top;\n",
       "    }\n",
       "\n",
       "    .dataframe thead th {\n",
       "        text-align: right;\n",
       "    }\n",
       "</style>\n",
       "<table border=\"1\" class=\"dataframe\">\n",
       "  <thead>\n",
       "    <tr style=\"text-align: right;\">\n",
       "      <th></th>\n",
       "      <th>Invoice_Date</th>\n",
       "      <th>INVOICELINETEXT</th>\n",
       "    </tr>\n",
       "  </thead>\n",
       "  <tbody>\n",
       "    <tr>\n",
       "      <th>0</th>\n",
       "      <td>2017-05-30</td>\n",
       "      <td>ENGINE OIL</td>\n",
       "    </tr>\n",
       "    <tr>\n",
       "      <th>1</th>\n",
       "      <td>2017-06-02</td>\n",
       "      <td>ENGINE OIL</td>\n",
       "    </tr>\n",
       "    <tr>\n",
       "      <th>2</th>\n",
       "      <td>2017-06-02</td>\n",
       "      <td>POLISH</td>\n",
       "    </tr>\n",
       "    <tr>\n",
       "      <th>3</th>\n",
       "      <td>2017-06-02</td>\n",
       "      <td>CONSUMABLES</td>\n",
       "    </tr>\n",
       "    <tr>\n",
       "      <th>4</th>\n",
       "      <td>2017-06-02</td>\n",
       "      <td>COOLANT OIL</td>\n",
       "    </tr>\n",
       "  </tbody>\n",
       "</table>\n",
       "</div>"
      ],
      "text/plain": [
       "  Invoice_Date INVOICELINETEXT\n",
       "0   2017-05-30      ENGINE OIL\n",
       "1   2017-06-02      ENGINE OIL\n",
       "2   2017-06-02          POLISH\n",
       "3   2017-06-02     CONSUMABLES\n",
       "4   2017-06-02     COOLANT OIL"
      ]
     },
     "execution_count": 3,
     "metadata": {},
     "output_type": "execute_result"
    }
   ],
   "source": [
    "data.head()"
   ]
  },
  {
   "cell_type": "markdown",
   "metadata": {},
   "source": [
    "### Time and frequency base weekly data analyse"
   ]
  },
  {
   "cell_type": "markdown",
   "metadata": {},
   "source": [
    "#### calculate all the null values"
   ]
  },
  {
   "cell_type": "code",
   "execution_count": 4,
   "metadata": {},
   "outputs": [
    {
     "data": {
      "text/plain": [
       "Invoice_Date        0\n",
       "INVOICELINETEXT    34\n",
       "dtype: int64"
      ]
     },
     "execution_count": 4,
     "metadata": {},
     "output_type": "execute_result"
    }
   ],
   "source": [
    "data.isnull().sum()"
   ]
  },
  {
   "cell_type": "markdown",
   "metadata": {},
   "source": [
    "#### Drop null values"
   ]
  },
  {
   "cell_type": "code",
   "execution_count": 5,
   "metadata": {},
   "outputs": [],
   "source": [
    "data.dropna(inplace=True)"
   ]
  },
  {
   "cell_type": "code",
   "execution_count": 6,
   "metadata": {},
   "outputs": [
    {
     "data": {
      "text/plain": [
       "Invoice_Date       0\n",
       "INVOICELINETEXT    0\n",
       "dtype: int64"
      ]
     },
     "execution_count": 6,
     "metadata": {},
     "output_type": "execute_result"
    }
   ],
   "source": [
    "data.isnull().sum()"
   ]
  },
  {
   "cell_type": "markdown",
   "metadata": {},
   "source": [
    "#### Use groupby for slipting data into group and use count function to count the spare parts which were used in 2018"
   ]
  },
  {
   "cell_type": "code",
   "execution_count": 7,
   "metadata": {},
   "outputs": [],
   "source": [
    "data['count']=data.groupby('INVOICELINETEXT')['Invoice_Date'].transform('size')"
   ]
  },
  {
   "cell_type": "code",
   "execution_count": 8,
   "metadata": {},
   "outputs": [],
   "source": [
    "data[\"year\"]= pd.to_datetime(data[\"Invoice_Date\"]).dt.year "
   ]
  },
  {
   "cell_type": "markdown",
   "metadata": {},
   "source": [
    "#### Took data of 2018 "
   ]
  },
  {
   "cell_type": "code",
   "execution_count": 9,
   "metadata": {},
   "outputs": [],
   "source": [
    "data=data.loc[data['year']==2018]"
   ]
  },
  {
   "cell_type": "code",
   "execution_count": 10,
   "metadata": {},
   "outputs": [
    {
     "name": "stdout",
     "output_type": "stream",
     "text": [
      "(19558, 4)\n"
     ]
    },
    {
     "data": {
      "text/html": [
       "<div>\n",
       "<style scoped>\n",
       "    .dataframe tbody tr th:only-of-type {\n",
       "        vertical-align: middle;\n",
       "    }\n",
       "\n",
       "    .dataframe tbody tr th {\n",
       "        vertical-align: top;\n",
       "    }\n",
       "\n",
       "    .dataframe thead th {\n",
       "        text-align: right;\n",
       "    }\n",
       "</style>\n",
       "<table border=\"1\" class=\"dataframe\">\n",
       "  <thead>\n",
       "    <tr style=\"text-align: right;\">\n",
       "      <th></th>\n",
       "      <th>Invoice_Date</th>\n",
       "      <th>INVOICELINETEXT</th>\n",
       "      <th>count</th>\n",
       "      <th>year</th>\n",
       "    </tr>\n",
       "  </thead>\n",
       "  <tbody>\n",
       "    <tr>\n",
       "      <th>8368</th>\n",
       "      <td>2018-01-03</td>\n",
       "      <td>BRAKE CABLE</td>\n",
       "      <td>24</td>\n",
       "      <td>2018</td>\n",
       "    </tr>\n",
       "    <tr>\n",
       "      <th>8369</th>\n",
       "      <td>2018-01-03</td>\n",
       "      <td>ENGINE OIL</td>\n",
       "      <td>3802</td>\n",
       "      <td>2018</td>\n",
       "    </tr>\n",
       "    <tr>\n",
       "      <th>8370</th>\n",
       "      <td>2018-01-03</td>\n",
       "      <td>BATTERY</td>\n",
       "      <td>83</td>\n",
       "      <td>2018</td>\n",
       "    </tr>\n",
       "    <tr>\n",
       "      <th>8371</th>\n",
       "      <td>2018-01-03</td>\n",
       "      <td>LOCK ARM</td>\n",
       "      <td>43</td>\n",
       "      <td>2018</td>\n",
       "    </tr>\n",
       "    <tr>\n",
       "      <th>8372</th>\n",
       "      <td>2018-01-03</td>\n",
       "      <td>GENERAL SERVICE</td>\n",
       "      <td>2142</td>\n",
       "      <td>2018</td>\n",
       "    </tr>\n",
       "  </tbody>\n",
       "</table>\n",
       "</div>"
      ],
      "text/plain": [
       "     Invoice_Date  INVOICELINETEXT  count  year\n",
       "8368   2018-01-03      BRAKE CABLE     24  2018\n",
       "8369   2018-01-03       ENGINE OIL   3802  2018\n",
       "8370   2018-01-03          BATTERY     83  2018\n",
       "8371   2018-01-03         LOCK ARM     43  2018\n",
       "8372   2018-01-03  GENERAL SERVICE   2142  2018"
      ]
     },
     "execution_count": 10,
     "metadata": {},
     "output_type": "execute_result"
    }
   ],
   "source": [
    "print(data.shape)\n",
    "data.head()"
   ]
  },
  {
   "cell_type": "code",
   "execution_count": 11,
   "metadata": {},
   "outputs": [],
   "source": [
    "data.set_index(['Invoice_Date'],inplace=True)"
   ]
  },
  {
   "cell_type": "code",
   "execution_count": 12,
   "metadata": {},
   "outputs": [],
   "source": [
    "data.drop_duplicates(subset=['INVOICELINETEXT','count'],keep='first',inplace=True)"
   ]
  },
  {
   "cell_type": "code",
   "execution_count": 13,
   "metadata": {},
   "outputs": [],
   "source": [
    "data.inplace=True"
   ]
  },
  {
   "cell_type": "code",
   "execution_count": 14,
   "metadata": {},
   "outputs": [],
   "source": [
    "#from datetime import datetime \n",
    "#data.sort_index(ascending=True,inplace=True)"
   ]
  },
  {
   "cell_type": "code",
   "execution_count": 15,
   "metadata": {},
   "outputs": [],
   "source": [
    "data.drop(['year'],axis=1,inplace=True)"
   ]
  },
  {
   "cell_type": "markdown",
   "metadata": {},
   "source": [
    "#### Use ABC classification for creating three classes which shows the quantity on percentage basis"
   ]
  },
  {
   "cell_type": "code",
   "execution_count": 16,
   "metadata": {},
   "outputs": [],
   "source": [
    "def ABC_segmentation(perc):\n",
    "    '''\n",
    "    Creates the 3 classes A, B, and C based \n",
    "    on quantity percentages (A-60%, B-25%, C-15%)\n",
    "    '''\n",
    "    if perc > 0 and perc < 0.6:\n",
    "        return 'A'\n",
    "    elif perc >= 0.6 and perc < 0.85:\n",
    "        return 'B'\n",
    "    elif perc >= 0.85:\n",
    "        return 'C'"
   ]
  },
  {
   "cell_type": "code",
   "execution_count": 17,
   "metadata": {},
   "outputs": [],
   "source": [
    "data['Rumsumcount']=data['count'].cumsum()"
   ]
  },
  {
   "cell_type": "code",
   "execution_count": 18,
   "metadata": {},
   "outputs": [],
   "source": [
    "data['totsum']=data['count'].sum()"
   ]
  },
  {
   "cell_type": "code",
   "execution_count": 19,
   "metadata": {},
   "outputs": [],
   "source": [
    "data['runper']=data['Rumsumcount']/data['totsum']"
   ]
  },
  {
   "cell_type": "code",
   "execution_count": 20,
   "metadata": {},
   "outputs": [],
   "source": [
    "data['Class']=data['runper'].apply(ABC_segmentation)"
   ]
  },
  {
   "cell_type": "markdown",
   "metadata": {},
   "source": [
    "#### So here 60% spare is under A, 25% under B,15% under C"
   ]
  },
  {
   "cell_type": "code",
   "execution_count": 21,
   "metadata": {},
   "outputs": [
    {
     "data": {
      "text/plain": [
       "C    356\n",
       "B     53\n",
       "A     27\n",
       "Name: Class, dtype: int64"
      ]
     },
     "execution_count": 21,
     "metadata": {},
     "output_type": "execute_result"
    }
   ],
   "source": [
    "data.Class.value_counts()"
   ]
  },
  {
   "cell_type": "code",
   "execution_count": 22,
   "metadata": {},
   "outputs": [
    {
     "data": {
      "text/html": [
       "<div>\n",
       "<style scoped>\n",
       "    .dataframe tbody tr th:only-of-type {\n",
       "        vertical-align: middle;\n",
       "    }\n",
       "\n",
       "    .dataframe tbody tr th {\n",
       "        vertical-align: top;\n",
       "    }\n",
       "\n",
       "    .dataframe thead th {\n",
       "        text-align: right;\n",
       "    }\n",
       "</style>\n",
       "<table border=\"1\" class=\"dataframe\">\n",
       "  <thead>\n",
       "    <tr style=\"text-align: right;\">\n",
       "      <th></th>\n",
       "      <th>INVOICELINETEXT</th>\n",
       "      <th>count</th>\n",
       "      <th>Rumsumcount</th>\n",
       "      <th>totsum</th>\n",
       "      <th>runper</th>\n",
       "      <th>Class</th>\n",
       "    </tr>\n",
       "    <tr>\n",
       "      <th>Invoice_Date</th>\n",
       "      <th></th>\n",
       "      <th></th>\n",
       "      <th></th>\n",
       "      <th></th>\n",
       "      <th></th>\n",
       "      <th></th>\n",
       "    </tr>\n",
       "  </thead>\n",
       "  <tbody>\n",
       "    <tr>\n",
       "      <th>2018-01-03</th>\n",
       "      <td>BRAKE CABLE</td>\n",
       "      <td>24</td>\n",
       "      <td>24</td>\n",
       "      <td>28279</td>\n",
       "      <td>0.000849</td>\n",
       "      <td>A</td>\n",
       "    </tr>\n",
       "    <tr>\n",
       "      <th>2018-01-03</th>\n",
       "      <td>ENGINE OIL</td>\n",
       "      <td>3802</td>\n",
       "      <td>3826</td>\n",
       "      <td>28279</td>\n",
       "      <td>0.135295</td>\n",
       "      <td>A</td>\n",
       "    </tr>\n",
       "    <tr>\n",
       "      <th>2018-01-03</th>\n",
       "      <td>BATTERY</td>\n",
       "      <td>83</td>\n",
       "      <td>3909</td>\n",
       "      <td>28279</td>\n",
       "      <td>0.138230</td>\n",
       "      <td>A</td>\n",
       "    </tr>\n",
       "    <tr>\n",
       "      <th>2018-01-03</th>\n",
       "      <td>LOCK ARM</td>\n",
       "      <td>43</td>\n",
       "      <td>3952</td>\n",
       "      <td>28279</td>\n",
       "      <td>0.139750</td>\n",
       "      <td>A</td>\n",
       "    </tr>\n",
       "    <tr>\n",
       "      <th>2018-01-03</th>\n",
       "      <td>GENERAL SERVICE</td>\n",
       "      <td>2142</td>\n",
       "      <td>6094</td>\n",
       "      <td>28279</td>\n",
       "      <td>0.215496</td>\n",
       "      <td>A</td>\n",
       "    </tr>\n",
       "  </tbody>\n",
       "</table>\n",
       "</div>"
      ],
      "text/plain": [
       "              INVOICELINETEXT  count  Rumsumcount  totsum    runper Class\n",
       "Invoice_Date                                                             \n",
       "2018-01-03        BRAKE CABLE     24           24   28279  0.000849     A\n",
       "2018-01-03         ENGINE OIL   3802         3826   28279  0.135295     A\n",
       "2018-01-03            BATTERY     83         3909   28279  0.138230     A\n",
       "2018-01-03           LOCK ARM     43         3952   28279  0.139750     A\n",
       "2018-01-03    GENERAL SERVICE   2142         6094   28279  0.215496     A"
      ]
     },
     "execution_count": 22,
     "metadata": {},
     "output_type": "execute_result"
    }
   ],
   "source": [
    "data.head()"
   ]
  },
  {
   "cell_type": "markdown",
   "metadata": {},
   "source": [
    "#### Merge invoicelinetext, count, & class"
   ]
  },
  {
   "cell_type": "code",
   "execution_count": 23,
   "metadata": {},
   "outputs": [],
   "source": [
    "data['service']=data['INVOICELINETEXT']+' '+data['count'].map(str)+' '+data['Class'].map(str)"
   ]
  },
  {
   "cell_type": "code",
   "execution_count": 24,
   "metadata": {},
   "outputs": [],
   "source": [
    "## print(data.groupby('INVOICELINETEXT').size())"
   ]
  },
  {
   "cell_type": "code",
   "execution_count": 25,
   "metadata": {},
   "outputs": [
    {
     "data": {
      "text/html": [
       "<div>\n",
       "<style scoped>\n",
       "    .dataframe tbody tr th:only-of-type {\n",
       "        vertical-align: middle;\n",
       "    }\n",
       "\n",
       "    .dataframe tbody tr th {\n",
       "        vertical-align: top;\n",
       "    }\n",
       "\n",
       "    .dataframe thead th {\n",
       "        text-align: right;\n",
       "    }\n",
       "</style>\n",
       "<table border=\"1\" class=\"dataframe\">\n",
       "  <thead>\n",
       "    <tr style=\"text-align: right;\">\n",
       "      <th></th>\n",
       "      <th>INVOICELINETEXT</th>\n",
       "      <th>count</th>\n",
       "      <th>Rumsumcount</th>\n",
       "      <th>totsum</th>\n",
       "      <th>runper</th>\n",
       "      <th>Class</th>\n",
       "      <th>service</th>\n",
       "    </tr>\n",
       "    <tr>\n",
       "      <th>Invoice_Date</th>\n",
       "      <th></th>\n",
       "      <th></th>\n",
       "      <th></th>\n",
       "      <th></th>\n",
       "      <th></th>\n",
       "      <th></th>\n",
       "      <th></th>\n",
       "    </tr>\n",
       "  </thead>\n",
       "  <tbody>\n",
       "    <tr>\n",
       "      <th>2018-01-03</th>\n",
       "      <td>BRAKE CABLE</td>\n",
       "      <td>24</td>\n",
       "      <td>24</td>\n",
       "      <td>28279</td>\n",
       "      <td>0.000849</td>\n",
       "      <td>A</td>\n",
       "      <td>BRAKE CABLE 24 A</td>\n",
       "    </tr>\n",
       "    <tr>\n",
       "      <th>2018-01-03</th>\n",
       "      <td>ENGINE OIL</td>\n",
       "      <td>3802</td>\n",
       "      <td>3826</td>\n",
       "      <td>28279</td>\n",
       "      <td>0.135295</td>\n",
       "      <td>A</td>\n",
       "      <td>ENGINE OIL 3802 A</td>\n",
       "    </tr>\n",
       "    <tr>\n",
       "      <th>2018-01-03</th>\n",
       "      <td>BATTERY</td>\n",
       "      <td>83</td>\n",
       "      <td>3909</td>\n",
       "      <td>28279</td>\n",
       "      <td>0.138230</td>\n",
       "      <td>A</td>\n",
       "      <td>BATTERY 83 A</td>\n",
       "    </tr>\n",
       "    <tr>\n",
       "      <th>2018-01-03</th>\n",
       "      <td>LOCK ARM</td>\n",
       "      <td>43</td>\n",
       "      <td>3952</td>\n",
       "      <td>28279</td>\n",
       "      <td>0.139750</td>\n",
       "      <td>A</td>\n",
       "      <td>LOCK ARM 43 A</td>\n",
       "    </tr>\n",
       "    <tr>\n",
       "      <th>2018-01-03</th>\n",
       "      <td>GENERAL SERVICE</td>\n",
       "      <td>2142</td>\n",
       "      <td>6094</td>\n",
       "      <td>28279</td>\n",
       "      <td>0.215496</td>\n",
       "      <td>A</td>\n",
       "      <td>GENERAL SERVICE 2142 A</td>\n",
       "    </tr>\n",
       "  </tbody>\n",
       "</table>\n",
       "</div>"
      ],
      "text/plain": [
       "              INVOICELINETEXT  count  Rumsumcount  totsum    runper Class  \\\n",
       "Invoice_Date                                                                \n",
       "2018-01-03        BRAKE CABLE     24           24   28279  0.000849     A   \n",
       "2018-01-03         ENGINE OIL   3802         3826   28279  0.135295     A   \n",
       "2018-01-03            BATTERY     83         3909   28279  0.138230     A   \n",
       "2018-01-03           LOCK ARM     43         3952   28279  0.139750     A   \n",
       "2018-01-03    GENERAL SERVICE   2142         6094   28279  0.215496     A   \n",
       "\n",
       "                             service  \n",
       "Invoice_Date                          \n",
       "2018-01-03          BRAKE CABLE 24 A  \n",
       "2018-01-03         ENGINE OIL 3802 A  \n",
       "2018-01-03              BATTERY 83 A  \n",
       "2018-01-03             LOCK ARM 43 A  \n",
       "2018-01-03    GENERAL SERVICE 2142 A  "
      ]
     },
     "execution_count": 25,
     "metadata": {},
     "output_type": "execute_result"
    }
   ],
   "source": [
    "data.head()"
   ]
  },
  {
   "cell_type": "code",
   "execution_count": 26,
   "metadata": {},
   "outputs": [],
   "source": [
    "data.drop(['INVOICELINETEXT','count','Rumsumcount','totsum','runper','Class'],axis=1,inplace=True)"
   ]
  },
  {
   "cell_type": "code",
   "execution_count": 27,
   "metadata": {},
   "outputs": [
    {
     "name": "stdout",
     "output_type": "stream",
     "text": [
      "(436, 1)\n"
     ]
    },
    {
     "data": {
      "text/html": [
       "<div>\n",
       "<style scoped>\n",
       "    .dataframe tbody tr th:only-of-type {\n",
       "        vertical-align: middle;\n",
       "    }\n",
       "\n",
       "    .dataframe tbody tr th {\n",
       "        vertical-align: top;\n",
       "    }\n",
       "\n",
       "    .dataframe thead th {\n",
       "        text-align: right;\n",
       "    }\n",
       "</style>\n",
       "<table border=\"1\" class=\"dataframe\">\n",
       "  <thead>\n",
       "    <tr style=\"text-align: right;\">\n",
       "      <th></th>\n",
       "      <th>service</th>\n",
       "    </tr>\n",
       "    <tr>\n",
       "      <th>Invoice_Date</th>\n",
       "      <th></th>\n",
       "    </tr>\n",
       "  </thead>\n",
       "  <tbody>\n",
       "    <tr>\n",
       "      <th>2018-01-03</th>\n",
       "      <td>BRAKE CABLE 24 A</td>\n",
       "    </tr>\n",
       "    <tr>\n",
       "      <th>2018-01-03</th>\n",
       "      <td>ENGINE OIL 3802 A</td>\n",
       "    </tr>\n",
       "    <tr>\n",
       "      <th>2018-01-03</th>\n",
       "      <td>BATTERY 83 A</td>\n",
       "    </tr>\n",
       "    <tr>\n",
       "      <th>2018-01-03</th>\n",
       "      <td>LOCK ARM 43 A</td>\n",
       "    </tr>\n",
       "    <tr>\n",
       "      <th>2018-01-03</th>\n",
       "      <td>GENERAL SERVICE 2142 A</td>\n",
       "    </tr>\n",
       "  </tbody>\n",
       "</table>\n",
       "</div>"
      ],
      "text/plain": [
       "                             service\n",
       "Invoice_Date                        \n",
       "2018-01-03          BRAKE CABLE 24 A\n",
       "2018-01-03         ENGINE OIL 3802 A\n",
       "2018-01-03              BATTERY 83 A\n",
       "2018-01-03             LOCK ARM 43 A\n",
       "2018-01-03    GENERAL SERVICE 2142 A"
      ]
     },
     "execution_count": 27,
     "metadata": {},
     "output_type": "execute_result"
    }
   ],
   "source": [
    "print(data.shape)\n",
    "data.head()"
   ]
  },
  {
   "cell_type": "markdown",
   "metadata": {},
   "source": [
    "#### Apply label encoding to service"
   ]
  },
  {
   "cell_type": "code",
   "execution_count": 28,
   "metadata": {},
   "outputs": [],
   "source": [
    "from sklearn.preprocessing import LabelEncoder\n",
    "la=LabelEncoder()\n",
    "data.service=la.fit_transform(data.service)"
   ]
  },
  {
   "cell_type": "code",
   "execution_count": 29,
   "metadata": {},
   "outputs": [
    {
     "data": {
      "text/html": [
       "<div>\n",
       "<style scoped>\n",
       "    .dataframe tbody tr th:only-of-type {\n",
       "        vertical-align: middle;\n",
       "    }\n",
       "\n",
       "    .dataframe tbody tr th {\n",
       "        vertical-align: top;\n",
       "    }\n",
       "\n",
       "    .dataframe thead th {\n",
       "        text-align: right;\n",
       "    }\n",
       "</style>\n",
       "<table border=\"1\" class=\"dataframe\">\n",
       "  <thead>\n",
       "    <tr style=\"text-align: right;\">\n",
       "      <th></th>\n",
       "      <th>service</th>\n",
       "    </tr>\n",
       "    <tr>\n",
       "      <th>Invoice_Date</th>\n",
       "      <th></th>\n",
       "    </tr>\n",
       "  </thead>\n",
       "  <tbody>\n",
       "    <tr>\n",
       "      <th>2018-01-03</th>\n",
       "      <td>28</td>\n",
       "    </tr>\n",
       "    <tr>\n",
       "      <th>2018-01-03</th>\n",
       "      <td>122</td>\n",
       "    </tr>\n",
       "    <tr>\n",
       "      <th>2018-01-03</th>\n",
       "      <td>14</td>\n",
       "    </tr>\n",
       "    <tr>\n",
       "      <th>2018-01-03</th>\n",
       "      <td>238</td>\n",
       "    </tr>\n",
       "    <tr>\n",
       "      <th>2018-01-03</th>\n",
       "      <td>174</td>\n",
       "    </tr>\n",
       "  </tbody>\n",
       "</table>\n",
       "</div>"
      ],
      "text/plain": [
       "              service\n",
       "Invoice_Date         \n",
       "2018-01-03         28\n",
       "2018-01-03        122\n",
       "2018-01-03         14\n",
       "2018-01-03        238\n",
       "2018-01-03        174"
      ]
     },
     "execution_count": 29,
     "metadata": {},
     "output_type": "execute_result"
    }
   ],
   "source": [
    "data.head()"
   ]
  },
  {
   "cell_type": "code",
   "execution_count": 30,
   "metadata": {},
   "outputs": [
    {
     "name": "stderr",
     "output_type": "stream",
     "text": [
      "C:\\Users\\SHADAB\\Anaconda3\\lib\\site-packages\\pandas\\plotting\\_converter.py:129: FutureWarning: Using an implicitly registered datetime converter for a matplotlib plotting method. The converter was registered by pandas on import. Future versions of pandas will require you to explicitly register matplotlib converters.\n",
      "\n",
      "To register the converters:\n",
      "\t>>> from pandas.plotting import register_matplotlib_converters\n",
      "\t>>> register_matplotlib_converters()\n",
      "  warnings.warn(msg, FutureWarning)\n"
     ]
    },
    {
     "data": {
      "text/plain": [
       "<Figure size 640x480 with 1 Axes>"
      ]
     },
     "metadata": {},
     "output_type": "display_data"
    }
   ],
   "source": [
    "from matplotlib import pyplot\n",
    "pyplot.plot(data)\n",
    "pyplot.show()"
   ]
  },
  {
   "cell_type": "markdown",
   "metadata": {},
   "source": [
    "## Apply ARIMA Model"
   ]
  },
  {
   "cell_type": "code",
   "execution_count": 31,
   "metadata": {},
   "outputs": [
    {
     "name": "stderr",
     "output_type": "stream",
     "text": [
      "C:\\Users\\SHADAB\\Anaconda3\\lib\\site-packages\\statsmodels\\tsa\\base\\tsa_model.py:225: ValueWarning: A date index has been provided, but it has no associated frequency information and so will be ignored when e.g. forecasting.\n",
      "  ' ignored when e.g. forecasting.', ValueWarning)\n",
      "C:\\Users\\SHADAB\\Anaconda3\\lib\\site-packages\\statsmodels\\tsa\\base\\tsa_model.py:225: ValueWarning: A date index has been provided, but it has no associated frequency information and so will be ignored when e.g. forecasting.\n",
      "  ' ignored when e.g. forecasting.', ValueWarning)\n"
     ]
    },
    {
     "name": "stdout",
     "output_type": "stream",
     "text": [
      "                             ARIMA Model Results                              \n",
      "==============================================================================\n",
      "Dep. Variable:              D.service   No. Observations:                  435\n",
      "Model:                 ARIMA(5, 1, 1)   Log Likelihood               -2722.773\n",
      "Method:                       css-mle   S.D. of innovations            125.645\n",
      "Date:                Wed, 25 Sep 2019   AIC                           5461.545\n",
      "Time:                        20:00:10   BIC                           5494.148\n",
      "Sample:                             1   HQIC                          5474.413\n",
      "                                                                              \n",
      "===================================================================================\n",
      "                      coef    std err          z      P>|z|      [0.025      0.975]\n",
      "-----------------------------------------------------------------------------------\n",
      "const               0.0401      0.050      0.795      0.427      -0.059       0.139\n",
      "ar.L1.D.service     0.0507      0.048      1.056      0.292      -0.043       0.145\n",
      "ar.L2.D.service    -0.0165      0.048     -0.344      0.731      -0.111       0.078\n",
      "ar.L3.D.service     0.0290      0.048      0.602      0.547      -0.065       0.123\n",
      "ar.L4.D.service     0.0136      0.048      0.282      0.778      -0.081       0.108\n",
      "ar.L5.D.service    -0.0260      0.048     -0.540      0.590      -0.120       0.068\n",
      "ma.L1.D.service    -0.9999      0.007   -143.467      0.000      -1.014      -0.986\n",
      "                                    Roots                                    \n",
      "=============================================================================\n",
      "                  Real          Imaginary           Modulus         Frequency\n",
      "-----------------------------------------------------------------------------\n",
      "AR.1           -2.1462           -0.0000j            2.1462           -0.5000\n",
      "AR.2           -0.5247           -1.8819j            1.9536           -0.2933\n",
      "AR.3           -0.5247           +1.8819j            1.9536            0.2933\n",
      "AR.4            1.8591           -1.1140j            2.1673           -0.0859\n",
      "AR.5            1.8591           +1.1140j            2.1673            0.0859\n",
      "MA.1            1.0001           +0.0000j            1.0001            0.0000\n",
      "-----------------------------------------------------------------------------\n"
     ]
    }
   ],
   "source": [
    "from statsmodels.tsa.arima_model import ARIMA\n",
    "model = ARIMA(data, order=(5,1,1))\n",
    "model_fit = model.fit(disp=1)\n",
    "print(model_fit.summary())\n",
    "pyplot.show()"
   ]
  },
  {
   "cell_type": "code",
   "execution_count": 32,
   "metadata": {
    "scrolled": false
   },
   "outputs": [
    {
     "name": "stdout",
     "output_type": "stream",
     "text": [
      "predicted=229.157420, expected=208.000000\n"
     ]
    }
   ],
   "source": [
    "X = data.values\n",
    "size = int(len(X) * 0.80)\n",
    "train, test = X[0:size], X[size:len(X)]\n",
    "history = [x for x in train]\n",
    "predictions = list()\n",
    "for t in range(len(test)):\n",
    "    model = ARIMA(history, order=(5,1,1))\n",
    "    model_fit = model.fit(disp=0)\n",
    "    output = model_fit.forecast()\n",
    "    yhat = output[0]\n",
    "    predictions.append(yhat)\n",
    "    obs = test[t]\n",
    "    history.append(obs)\n",
    "print('predicted=%f, expected=%f' % (yhat, obs))"
   ]
  },
  {
   "cell_type": "markdown",
   "metadata": {},
   "source": [
    "#### Plotting the graph"
   ]
  },
  {
   "cell_type": "code",
   "execution_count": 33,
   "metadata": {},
   "outputs": [
    {
     "data": {
      "image/png": "[encoded data removed]",
      "text/plain": [
       "<Figure size 432x288 with 1 Axes>"
      ]
     },
     "metadata": {
      "needs_background": "light"
     },
     "output_type": "display_data"
    }
   ],
   "source": [
    "# plot\n",
    "pyplot.plot(test)\n",
    "pyplot.plot(predictions, color='red')\n",
    "pyplot.show()"
   ]
  },
  {
   "cell_type": "code",
   "execution_count": null,
   "metadata": {},
   "outputs": [],
   "source": []
  }
 ],
 "metadata": {
  "kernelspec": {
   "display_name": "Python 3",
   "language": "python",
   "name": "python3"
  },
  "language_info": {
   "codemirror_mode": {
    "name": "ipython",
    "version": 3
   },
   "file_extension": ".py",
   "mimetype": "text/x-python",
   "name": "python",
   "nbconvert_exporter": "python",
   "pygments_lexer": "ipython3",
   "version": "3.7.3"
  }
 },
 "nbformat": 4,
 "nbformat_minor": 2
}
